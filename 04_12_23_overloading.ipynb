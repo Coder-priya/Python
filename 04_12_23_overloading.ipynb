{
  "nbformat": 4,
  "nbformat_minor": 0,
  "metadata": {
    "colab": {
      "provenance": []
    },
    "kernelspec": {
      "name": "python3",
      "display_name": "Python 3"
    },
    "language_info": {
      "name": "python"
    }
  },
  "cells": [
    {
      "cell_type": "markdown",
      "source": [
        "1. WAP in python to implement calculator using function overloading.\n",
        "\n"
      ],
      "metadata": {
        "id": "iAcng7QpTyhA"
      }
    },
    {
      "cell_type": "code",
      "execution_count": null,
      "metadata": {
        "id": "wKbwWkrLVBeE",
        "colab": {
          "base_uri": "https://localhost:8080/"
        },
        "outputId": "8135d600-caed-40c0-aba1-663b0cd0cb1a"
      },
      "outputs": [
        {
          "output_type": "stream",
          "name": "stdout",
          "text": [
            "24.0\n",
            "-7\n",
            "1134.0\n",
            "0.2222222222222222\n"
          ]
        }
      ],
      "source": [
        "def add(*args):\n",
        "    result = 0\n",
        "    for num in args:\n",
        "       result = result + num\n",
        "    return result\n",
        "\n",
        "def subtract(a, b=0):\n",
        "    return a - b\n",
        "\n",
        "def multiply(*args):\n",
        "    result = 1\n",
        "    for num in args:\n",
        "       result = result * num\n",
        "    return result\n",
        "\n",
        "def divide(a, b=1):\n",
        "    if b == 0:\n",
        "        return \"invalid\"\n",
        "    return a / b\n",
        "\n",
        "print(add(2,9,3,7,3.0))\n",
        "print(subtract(2,9))\n",
        "print(multiply(2,9,3,7,3.0))\n",
        "print(divide(2,9))"
      ]
    },
    {
      "cell_type": "markdown",
      "source": [
        "2.WAP in python to calculate salary of an employee using function overloading."
      ],
      "metadata": {
        "id": "c8hMUpBDT8qx"
      }
    },
    {
      "cell_type": "code",
      "source": [
        "def Salary(basic, allowance=0, bonus=0, tax=0):\n",
        "  salary = basic + allowance + bonus - tax\n",
        "  print(\"Salary: \",salary)\n",
        "\n",
        "Salary(basic=50000)\n",
        "print(\"\\n\")\n",
        "Salary(60000, 2000, 1000, 4000)\n"
      ],
      "metadata": {
        "id": "c2BYzQ_rVIsZ",
        "colab": {
          "base_uri": "https://localhost:8080/"
        },
        "outputId": "4ce545ec-46ae-4c0f-837c-672bd824e489"
      },
      "execution_count": null,
      "outputs": [
        {
          "output_type": "stream",
          "name": "stdout",
          "text": [
            "Salary:  50000\n",
            "\n",
            "\n",
            "Salary:  59000\n"
          ]
        }
      ]
    }
  ]
}