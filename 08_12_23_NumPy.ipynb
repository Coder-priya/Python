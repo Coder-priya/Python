{
  "nbformat": 4,
  "nbformat_minor": 0,
  "metadata": {
    "colab": {
      "provenance": []
    },
    "kernelspec": {
      "name": "python3",
      "display_name": "Python 3"
    },
    "language_info": {
      "name": "python"
    }
  },
  "cells": [
    {
      "cell_type": "markdown",
      "source": [
        "1. Create two random 3x3 matrices (A and B)\n",
        "Perform element-wise addition, subtraction, multiplication, and division on these matrices.\n",
        "Compute the dot product of A and the transpose of B."
      ],
      "metadata": {
        "id": "fwRplZCSR6fo"
      }
    },
    {
      "cell_type": "code",
      "source": [
        "import numpy as np\n",
        "A = np.random.rand(3, 3)\n",
        "B = np.random.rand(3, 3)\n",
        "\n",
        "print(\"array1: \\n\", A)\n",
        "print(\"array2: \\n\", B, \"\\n\\n\")\n",
        "\n",
        "print(\"add(element-wise): \\n\", A+B)\n",
        "print(\"sub(element-wise): \\n\", A-B)\n",
        "print(\"mul(element-wise): \\n\", A*B)\n",
        "print(\"div(element-wise): \\n\", A/B, \"\\n\\n\")\n",
        "\n",
        "print(\"A . trnaspose(B): \\n\", np.dot(A, B.transpose()))\n"
      ],
      "metadata": {
        "colab": {
          "base_uri": "https://localhost:8080/"
        },
        "id": "aIMXVEK3MIQ4",
        "outputId": "d043d08d-2aa1-40fd-8cf0-dcf832ed5417"
      },
      "execution_count": null,
      "outputs": [
        {
          "output_type": "stream",
          "name": "stdout",
          "text": [
            "array1: \n",
            " [[0.27358941 0.99959572 0.43439189]\n",
            " [0.53058868 0.59122457 0.66121303]\n",
            " [0.62496548 0.31253201 0.82458035]]\n",
            "array2: \n",
            " [[0.1835784  0.69667302 0.27880803]\n",
            " [0.94750075 0.84032115 0.86794213]\n",
            " [0.18592944 0.33898509 0.59254542]] \n",
            "\n",
            "\n",
            "add(element-wise): \n",
            " [[0.4571678  1.69626874 0.71319992]\n",
            " [1.47808943 1.43154572 1.52915516]\n",
            " [0.81089493 0.6515171  1.41712577]]\n",
            "sub(element-wise): \n",
            " [[ 0.09001101  0.30292271  0.15558385]\n",
            " [-0.41691208 -0.24909658 -0.20672909]\n",
            " [ 0.43903604 -0.02645308  0.23203493]]\n",
            "mul(element-wise): \n",
            " [[0.0502251  0.69639137 0.12111195]\n",
            " [0.50273317 0.49681851 0.57389465]\n",
            " [0.11619948 0.10594369 0.48860131]]\n",
            "div(element-wise): \n",
            " [[1.49031373 1.43481332 1.55803218]\n",
            " [0.5599876  0.70356978 0.76181696]\n",
            " [3.36130455 0.92196389 1.39159012]] \n",
            "\n",
            "\n",
            "A . trnaspose(B): \n",
            " [[0.86772842 1.47623461 0.64711329]\n",
            " [0.69364633 1.57344633 0.69086713]\n",
            " [0.56236241 1.57047055 0.71074449]]\n"
          ]
        }
      ]
    },
    {
      "cell_type": "markdown",
      "source": [
        "2. Generate a NumPy array with integers from 0 to 20.\n",
        "Extract all even numbers using array slicing.\n",
        "Replace all odd numbers with -1."
      ],
      "metadata": {
        "id": "y9WrCJgZSFiV"
      }
    },
    {
      "cell_type": "code",
      "source": [
        "import numpy as np\n",
        "array = np.arange(0, 21)\n",
        "eve = array[0::2]\n",
        "array[1::2] = [-1]\n",
        "\n",
        "print(\"even: \", eve)\n",
        "print(\"after replacing:\", array)\n"
      ],
      "metadata": {
        "colab": {
          "base_uri": "https://localhost:8080/"
        },
        "id": "1jptbN1pPp9m",
        "outputId": "3cb0c3f0-199e-4e4f-d4a4-ebdc9d87d55d"
      },
      "execution_count": null,
      "outputs": [
        {
          "output_type": "stream",
          "name": "stdout",
          "text": [
            "even:  [ 0  2  4  6  8 10 12 14 16 18 20]\n",
            "after replacing: [ 0 -1  2 -1  4 -1  6 -1  8 -1 10 -1 12 -1 14 -1 16 -1 18 -1 20]\n"
          ]
        }
      ]
    },
    {
      "cell_type": "markdown",
      "source": [
        "3. Create a random 1D array with 100 elements.\n",
        "Calculate the mean, median, and standard deviation of the array.\n",
        "Identify the index of the maximum and minimum values in the array."
      ],
      "metadata": {
        "id": "t2nn_F58SP8w"
      }
    },
    {
      "cell_type": "code",
      "source": [
        "import numpy as np\n",
        "arr = np.random.rand(100)\n",
        "\n",
        "mean = np.mean(arr)\n",
        "median = np.median(arr)\n",
        "SD = np.std(arr)\n",
        "\n",
        "max = np.argmax(arr)\n",
        "min = np.argmin(arr)\n",
        "\n",
        "print(\"mean: \", mean)\n",
        "print(\"median: \", median)\n",
        "print(\"std deviation: \", SD)\n",
        "print(\"max index: \", max)\n",
        "print(\"min index: \", min)\n"
      ],
      "metadata": {
        "colab": {
          "base_uri": "https://localhost:8080/"
        },
        "id": "SvramtmSRajk",
        "outputId": "275f7b16-4c81-4784-f368-05e2f165eee2"
      },
      "execution_count": null,
      "outputs": [
        {
          "output_type": "stream",
          "name": "stdout",
          "text": [
            "mean:  0.4911200535103073\n",
            "median:  0.5159493662639956\n",
            "std deviation:  0.2792750463220658\n",
            "max index:  56\n",
            "min index:  28\n"
          ]
        }
      ]
    }
  ]
}