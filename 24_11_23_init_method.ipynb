{
  "nbformat": 4,
  "nbformat_minor": 0,
  "metadata": {
    "colab": {
      "provenance": []
    },
    "kernelspec": {
      "name": "python3",
      "display_name": "Python 3"
    },
    "language_info": {
      "name": "python"
    }
  },
  "cells": [
    {
      "cell_type": "code",
      "execution_count": null,
      "metadata": {
        "colab": {
          "base_uri": "https://localhost:8080/"
        },
        "id": "DmTtExP8bxf6",
        "outputId": "5f4cf6df-6379-492c-f690-38a9be3e7445"
      },
      "outputs": [
        {
          "output_type": "stream",
          "name": "stdout",
          "text": [
            "Hello, my name is John and I am 25 years old.\n"
          ]
        }
      ],
      "source": [
        "class Person:\n",
        "    def __init__(self, name, age):\n",
        "        self.name = name\n",
        "        self.age = age\n",
        "\n",
        "    def introduce(self):\n",
        "        print(\"Hello, my name is\", self.name, \"and I am\", self.age, \"years old.\")\n",
        "\n",
        "person1 = Person(\"alice\", 25)\n",
        "person1.introduce()\n"
      ]
    },
    {
      "cell_type": "code",
      "source": [
        "class Car:\n",
        "    def __init__(self, make, model, year):\n",
        "        self.make = make\n",
        "        self.model = model\n",
        "        self.year = year\n",
        "\n",
        "class Person:\n",
        "    def __init__(self, name):\n",
        "        self.name = name\n",
        "\n",
        "    def drive_car(self, car):\n",
        "        print(self.name, \"is driving a\", car.year, car.make, car.model)\n",
        "\n",
        "car1 = Car(\"Toyota\", \"Camry\", 2022)\n",
        "person1 = Person(\"Alice\")\n",
        "\n",
        "person1.drive_car(car1)\n"
      ],
      "metadata": {
        "colab": {
          "base_uri": "https://localhost:8080/"
        },
        "id": "YWzgSpbZdKO3",
        "outputId": "d61232e9-b3ff-45b9-efc5-eb7f8c0a3e36"
      },
      "execution_count": null,
      "outputs": [
        {
          "output_type": "stream",
          "name": "stdout",
          "text": [
            "Alice is driving a 2022 Toyota Camry\n"
          ]
        }
      ]
    },
    {
      "cell_type": "code",
      "source": [
        "class Circle:\n",
        "    pi = 3.14\n",
        "\n",
        "    def __init__(self, radius):\n",
        "        self.radius = radius\n",
        "\n",
        "    def calculateArea(self):\n",
        "        area = self.pi * (self.radius ** 2)\n",
        "        return area\n",
        "\n",
        "c = Circle(5)\n",
        "area = c.calculateArea()\n",
        "print(\"The area of the circle with radius\", c.radius, \"is: \", area)\n"
      ],
      "metadata": {
        "id": "FqZlXN0Yd9rx",
        "colab": {
          "base_uri": "https://localhost:8080/"
        },
        "outputId": "44c949c4-2f35-4a7d-e41a-e8071735b512"
      },
      "execution_count": null,
      "outputs": [
        {
          "output_type": "stream",
          "name": "stdout",
          "text": [
            "The area of the circle with radius 5 is:  78.5\n"
          ]
        }
      ]
    },
    {
      "cell_type": "code",
      "source": [
        "class Book:\n",
        "    def __init__(self, title, author, publication_year):\n",
        "        self.title = title\n",
        "        self.author = author\n",
        "        self.year = publication_year\n",
        "\n",
        "    def display_bookdetail(self):\n",
        "        print(\"Title: \",self.title)\n",
        "        print(\"Author: \", self.author)\n",
        "        print(\"Publication Year: \" , self.year)\n",
        "\n",
        "book1 = Book(\"The Great Gatsby\", \"F. Scott Fitzgerald\", 1925)\n",
        "book1.display_bookdetail()\n"
      ],
      "metadata": {
        "colab": {
          "base_uri": "https://localhost:8080/"
        },
        "id": "-X10Cy9chvxv",
        "outputId": "73175607-68b6-4392-9974-9dec1a2ebd90"
      },
      "execution_count": null,
      "outputs": [
        {
          "output_type": "stream",
          "name": "stdout",
          "text": [
            "Title:  The Great Gatsby\n",
            "Author:  F. Scott Fitzgerald\n",
            "Publication Year:  1925\n"
          ]
        }
      ]
    },
    {
      "cell_type": "code",
      "source": [
        "import math\n",
        "\n",
        "class Point:\n",
        "    def __init__(self, x, y):\n",
        "        self.x = x\n",
        "        self.y = y\n",
        "\n",
        "    def distanceCal(self, other_point):\n",
        "        distance = math.sqrt((self.x - other_point.x)**2 + (self.y - other_point.y)**2)\n",
        "        return distance\n",
        "\n",
        "point1 = Point(1, 2)\n",
        "point2 = Point(4, 6)\n",
        "\n",
        "distance_between_points = point1.distanceCal(point2)\n",
        "print(\"The distance between two points is: \", distance_between_points)\n"
      ],
      "metadata": {
        "colab": {
          "base_uri": "https://localhost:8080/"
        },
        "id": "ZVmotO86qev3",
        "outputId": "4a4a2c9c-aee7-42a7-f166-b47225ec66f9"
      },
      "execution_count": null,
      "outputs": [
        {
          "output_type": "stream",
          "name": "stdout",
          "text": [
            "The distance between the two points is:  5.0\n"
          ]
        }
      ]
    },
    {
      "cell_type": "code",
      "source": [
        "class Polygon:\n",
        " def __init__(self, no_of_sides):\n",
        "  self.n = no_of_sides\n",
        "  self.sides = [0 for i in range(no_of_sides)]\n",
        "\n",
        " def inputSides(self):\n",
        "  self.sides = [float(input(\"side \"+ str(i+1)+\": \")) for i in range(self.n)]\n",
        "\n",
        " def dispSides(self):\n",
        "  for i in range(self.n):\n",
        "    print(\"Side\", i+1,\"is\",self.sides[i])\n",
        "\n",
        "class Triangle(Polygon):\n",
        "  def __init__(self):\n",
        "    Polygon.__init__(self, 3)\n",
        "  def findarea(self):\n",
        "    a, b, c = self.sides\n",
        "    s= (a+b+c)/2\n",
        "    area = (s*(s-a)*(s-b)*(s-c))**0.5\n",
        "    print(\"area: \", area)\n",
        "\n",
        "tria = Triangle()\n",
        "tria.inputSides()\n",
        "tria.findarea()"
      ],
      "metadata": {
        "colab": {
          "base_uri": "https://localhost:8080/"
        },
        "id": "4qKyArOxrkSv",
        "outputId": "000e5c10-7455-4ae0-83a4-27c55a01aa99"
      },
      "execution_count": null,
      "outputs": [
        {
          "output_type": "stream",
          "name": "stdout",
          "text": [
            "side 1: 2\n",
            "side 2: 3\n",
            "side 3: 3\n",
            "area:  2.8284271247461903\n"
          ]
        }
      ]
    }
  ]
}