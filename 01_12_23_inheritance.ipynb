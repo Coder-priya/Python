{
  "nbformat": 4,
  "nbformat_minor": 0,
  "metadata": {
    "colab": {
      "provenance": []
    },
    "kernelspec": {
      "name": "python3",
      "display_name": "Python 3"
    },
    "language_info": {
      "name": "python"
    }
  },
  "cells": [
    {
      "cell_type": "code",
      "execution_count": null,
      "metadata": {
        "colab": {
          "base_uri": "https://localhost:8080/"
        },
        "id": "DM1KOaCH0CNl",
        "outputId": "0ecc3ca9-1381-47f0-c691-7b730eced2e5"
      },
      "outputs": [
        {
          "output_type": "stream",
          "name": "stdout",
          "text": [
            "name: ruhi \n",
            "age: 15\n",
            "\n",
            "\n",
            "name: alice \n",
            "age: 40\n",
            "student_id: 123456\n",
            "\n",
            "\n",
            "name: Malu \n",
            "age: 30\n",
            "employee_id: 654321\n"
          ]
        }
      ],
      "source": [
        "#1.\n",
        "class Person():\n",
        "  def __init__(self, name, age):\n",
        "    self.name = name\n",
        "    self.age = age\n",
        "  def display(self):\n",
        "    print(f\"name: {self.name} \\nage: {self.age}\")\n",
        "\n",
        "class Student(Person):\n",
        "  def __init__(self, name, age, student_id):\n",
        "    super().__init__(name, age)\n",
        "    self.student_id = student_id\n",
        "  def display_student(self):\n",
        "    self.display()\n",
        "    print(f\"student_id: {self.student_id}\")\n",
        "\n",
        "class Teacher(Person):\n",
        "  def __init__(self, name, age, employee_id):\n",
        "    super().__init__(name, age)\n",
        "    self.employee_id = employee_id\n",
        "  def display_teacher(self):\n",
        "    self.display()\n",
        "    print(f\"employee_id: {self.employee_id}\")\n",
        "\n",
        "p = Person(\"ruhi\", 15)\n",
        "p.display()\n",
        "print(\"\\n\")\n",
        "s = Student(\"alice\", 40, 123456)\n",
        "s.display_student()\n",
        "print(\"\\n\")\n",
        "t = Teacher(\"Malu\", 30, 654321)\n",
        "t.display_teacher()"
      ]
    },
    {
      "cell_type": "code",
      "source": [
        "#2.\n",
        "class Shape():\n",
        "  def __init__(self, shape):\n",
        "    self.shape = shape\n",
        "\n",
        "  def display(self):\n",
        "    print(f\"shape: {self.shape}\")\n",
        "\n",
        "class Rectangle(Shape):\n",
        "  def __init__(self, shape, length, width):\n",
        "    super().__init__(shape)\n",
        "    self.length = length\n",
        "    self.width = width\n",
        "  def area_rectangle(self):\n",
        "    self.display()\n",
        "    areaR = (self.width)*(self.length)\n",
        "    print(f\"area rectangle: {areaR}\")\n",
        "\n",
        "class Circle(Shape):\n",
        "  def __init__(self, shape, radius):\n",
        "    super().__init__(shape)\n",
        "    self.radius = radius\n",
        "  def area_circle(self):\n",
        "    self.display()\n",
        "    areaC = 3.14*(self.radius)*(self.radius)\n",
        "    print(f\"area circle: {areaC}\")\n",
        "\n",
        "c= Circle(\"circle\", 5)\n",
        "c.area_circle()\n",
        "print(\"\\n\")\n",
        "r = Rectangle(\"rectangle\", 5, 10)\n",
        "r.area_rectangle()"
      ],
      "metadata": {
        "colab": {
          "base_uri": "https://localhost:8080/"
        },
        "id": "y6sg_v4g84V4",
        "outputId": "1854c41a-4ac6-49b0-bd72-bf95df4fa067"
      },
      "execution_count": null,
      "outputs": [
        {
          "output_type": "stream",
          "name": "stdout",
          "text": [
            "shape: circle\n",
            "area circle: 78.5\n",
            "\n",
            "\n",
            "shape: rectangle\n",
            "area rectangle: 50\n"
          ]
        }
      ]
    },
    {
      "cell_type": "code",
      "source": [
        "#3.\n",
        "class Vehicle():\n",
        "  def __init__(self, make, model, year):\n",
        "    self.make = make\n",
        "    self.model = model\n",
        "    self.year = year\n",
        "  def display(self):\n",
        "    print(f\"make: {self.make} \\nmodel: {self.model} \\nyear: {self.year}\")\n",
        "\n",
        "class Car(Vehicle):\n",
        "  def __init__(self, make, model, year, mileage):\n",
        "    super().__init__( make, model, year)\n",
        "    self.mileage = mileage\n",
        "  def display_car(self):\n",
        "    self.display()\n",
        "    print(f\"mileage: {self.mileage}\")\n",
        "\n",
        "class MotorCycle(Vehicle):\n",
        "  def __init__(self, make, model, year, cc):\n",
        "    super().__init__( make, model, year)\n",
        "    self.cc = cc\n",
        "  def display_motorcycle(self):\n",
        "    self.display()\n",
        "    print(f\"cc: {self.cc}\")\n",
        "\n",
        "v= Vehicle(\"truck\", \"jhdshb\", 2003)\n",
        "v.display()\n",
        "print(\"\\n\")\n",
        "c= Car(\"maruti\", \"jhgdsf\", 2008, 354)\n",
        "c.display_car()\n",
        "print(\"\\n\")\n",
        "m= MotorCycle(\"royal enfield\", \"himalayan\", 2003, 534)\n",
        "m.display_motorcycle()"
      ],
      "metadata": {
        "colab": {
          "base_uri": "https://localhost:8080/"
        },
        "id": "VUSBgx-EBENl",
        "outputId": "88b083b8-a269-4e15-ea71-ec3f6e621bd9"
      },
      "execution_count": null,
      "outputs": [
        {
          "output_type": "stream",
          "name": "stdout",
          "text": [
            "make: truck \n",
            "model: jhdshb \n",
            "year: 2003\n",
            "\n",
            "\n",
            "make: maruti \n",
            "model: jhgdsf \n",
            "year: 2008\n",
            "mileage: 354\n",
            "\n",
            "\n",
            "make: royal enfield \n",
            "model: himalayan \n",
            "year: 2003\n",
            "cc: 534\n"
          ]
        }
      ]
    },
    {
      "cell_type": "code",
      "source": [
        "#4.\n",
        "class Animal():\n",
        "  def __init__(self, name, common):\n",
        "    self.name = name\n",
        "    self.common_attribute = common\n",
        "  def display(self):\n",
        "    print(f\"name: {self.name} \\ncommon attribute: {self.common_attribute}\")\n",
        "\n",
        "class Mammal(Animal):\n",
        "  def __init__(self, name, common, fur_color):\n",
        "    super().__init__(name, common)\n",
        "    self.fur_color = fur_color\n",
        "  def display_mammal(self):\n",
        "    self.display()\n",
        "    print(f\"fur color: {self.fur_color}\")\n",
        "\n",
        "class Bird(Animal):\n",
        "  def __init__(self, name, common, feather_color):\n",
        "    super().__init__(name, common)\n",
        "    self.feather_color = feather_color\n",
        "  def display_bird(self):\n",
        "    self.display()\n",
        "    print(f\"feather color: {self.feather_color}\")\n",
        "\n",
        "class NewAnimal(Animal):\n",
        "  def __init__(self, name, common, feature1, feature2):\n",
        "    super().__init__(name, common)\n",
        "    self.feature1 = feature1\n",
        "    self.feature2 = feature2\n",
        "  def display_new(self):\n",
        "    self.display()\n",
        "    print(f\"feature1: {self.feature1}\")\n",
        "    print(f\"feature2: {self.feature2}\")\n",
        "\n",
        "m = Mammal(\"lion\", \"roaring\", \"brown\")\n",
        "m.display_mammal()\n",
        "print(\"\\n\")\n",
        "b = Bird(\"sparrow\", \"kookoo\", \"gray\")\n",
        "b.display_bird()\n",
        "print(\"\\n\")\n",
        "n = NewAnimal(\"reptilia\", \"jhfdghjf\", \"gray\", \"jhdgf\")\n",
        "n.display_new()"
      ],
      "metadata": {
        "colab": {
          "base_uri": "https://localhost:8080/"
        },
        "id": "82zh0blZK4kp",
        "outputId": "4942824e-1c6d-43d9-ad29-e46d21191691"
      },
      "execution_count": null,
      "outputs": [
        {
          "output_type": "stream",
          "name": "stdout",
          "text": [
            "name: lion \n",
            "common attribute: roaring\n",
            "fur color: brown\n",
            "\n",
            "\n",
            "name: sparrow \n",
            "common attribute: kookoo\n",
            "feather color: gray\n",
            "\n",
            "\n",
            "name: reptilia \n",
            "common attribute: jhfdghjf\n",
            "feature1: gray\n",
            "feature2: jhdgf\n"
          ]
        }
      ]
    },
    {
      "cell_type": "code",
      "source": [
        "#5.\n",
        "class Book():\n",
        "  def __init__(self, title, author):\n",
        "    self.title = title\n",
        "    self.author = author\n",
        "  def display(self):\n",
        "    print(f\"title: {self.title} \\nauthor: {self.author}\")\n",
        "\n",
        "class FictionBook(Book):\n",
        "  def __init__(self, title, author, genre):\n",
        "    super().__init__(title, author)\n",
        "    self.genre = genre\n",
        "  def display_Fict(self):\n",
        "    self.display()\n",
        "    print(f\"genre: {self.genre}\")\n",
        "\n",
        "class NonFictionBook(Book):\n",
        "  def __init__(self, title, author, subject):\n",
        "    super().__init__(title, author)\n",
        "    self.subject = subject\n",
        "  def display_NonFict(self):\n",
        "    self.display()\n",
        "    print(f\"subject: {self.subject}\")\n",
        "\n",
        "class ScienceFictionBook(FictionBook):\n",
        "  def __init__(self, title, author, subgenre):\n",
        "    super().__init__(title, author, genre=\"Science Fiction\")\n",
        "    self.subgenre = subgenre\n",
        "  def display_SciFict(self):\n",
        "    self.display_Fict()\n",
        "    print(f\"subgenre: {self.subgenre}\")\n",
        "\n",
        "\n",
        "f = FictionBook(\"lion\", \"roaring\", \"brown\")\n",
        "f.display_Fict()\n",
        "print(\"\\n\")\n",
        "s = ScienceFictionBook(\"intersteller\", 'chris', \"space\")\n",
        "s.display_SciFict()"
      ],
      "metadata": {
        "colab": {
          "base_uri": "https://localhost:8080/"
        },
        "id": "Um_xPcaXO2YZ",
        "outputId": "38064c91-3798-4042-d684-3dae14ec011a"
      },
      "execution_count": null,
      "outputs": [
        {
          "output_type": "stream",
          "name": "stdout",
          "text": [
            "title: lion \n",
            "author: roaring\n",
            "genre: brown\n",
            "\n",
            "\n",
            "title: intersteller \n",
            "author: chris\n",
            "genre: Science Fiction\n",
            "subgenre: space\n"
          ]
        }
      ]
    }
  ]
}