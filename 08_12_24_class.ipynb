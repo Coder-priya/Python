{
  "nbformat": 4,
  "nbformat_minor": 0,
  "metadata": {
    "colab": {
      "provenance": []
    },
    "kernelspec": {
      "name": "python3",
      "display_name": "Python 3"
    },
    "language_info": {
      "name": "python"
    }
  },
  "cells": [
    {
      "cell_type": "markdown",
      "source": [
        "1. Implement a class Book class with attributes title and author. Overload the > operator to compare books based on their titles.\n",
        "Print the no of copies of a particular book(get input as title)."
      ],
      "metadata": {
        "id": "lHvcWh7ATAja"
      }
    },
    {
      "cell_type": "code",
      "execution_count": null,
      "metadata": {
        "colab": {
          "base_uri": "https://localhost:8080/"
        },
        "id": "KoRF5_Xq0FAy",
        "outputId": "19ceb4e1-d017-4ef4-8e4f-5b1961e63a3a"
      },
      "outputs": [
        {
          "output_type": "stream",
          "name": "stdout",
          "text": [
            "True\n",
            "title: python \n",
            "no of copies: 21\n"
          ]
        }
      ],
      "source": [
        "class Book:\n",
        "  def __init__(self, title, author, noCopy):\n",
        "    self.title = title\n",
        "    self.author = author\n",
        "    self.noCopy = noCopy\n",
        "  def __gt__(self, other):\n",
        "    return self.title > other.title\n",
        "  def display(self):\n",
        "    print(f\"title: {self.title} \\nno of copies: {self.noCopy}\")\n",
        "\n",
        "book1 = Book(\"python\", \"priya\", 21)\n",
        "book2 = Book(\"capture the flag\", \"himanshu\", 12)\n",
        "book3 = Book(\"IoT\", \"yash\", 14)\n",
        "print(book1 > book2)\n",
        "book1.display()"
      ]
    },
    {
      "cell_type": "markdown",
      "source": [
        "2. Implement the truth table for AND, OR, NOT and XOR gate using operator overloading\n",
        " ( Create a class LogicalValue that represents a boolean value True and False. )"
      ],
      "metadata": {
        "id": "GU1up9GgTS67"
      }
    },
    {
      "cell_type": "code",
      "source": [
        "class LogicalValue():\n",
        "  def __init__(self, a):\n",
        "    self.a = a\n",
        "  def __and__(self, other):\n",
        "    return self.a and other.a\n",
        "\n",
        "  def __or__(self, other):\n",
        "    return self.a | other.a\n",
        "\n",
        "  def __not__(self):\n",
        "    return  ~ self.a\n",
        "\n",
        "  def __xor__(self, other):\n",
        "    return self.a^other.a\n",
        "\n",
        "l= LogicalValue(True)\n",
        "l2= LogicalValue(False)\n",
        "\n",
        "print(l & l2)\n",
        "print(l | l2)\n",
        "print(not l)\n",
        "print(l ^ l2)\n"
      ],
      "metadata": {
        "id": "QCZcCtd362Qs",
        "colab": {
          "base_uri": "https://localhost:8080/"
        },
        "outputId": "bf488f9b-3c05-4df7-d884-bc0f093564dc"
      },
      "execution_count": null,
      "outputs": [
        {
          "output_type": "stream",
          "name": "stdout",
          "text": [
            "False\n",
            "True\n",
            "False\n",
            "True\n"
          ]
        }
      ]
    },
    {
      "cell_type": "markdown",
      "source": [
        "3. Implement the addition and subtraction of Matrix using operator overloading."
      ],
      "metadata": {
        "id": "z0PFYXgGTgf4"
      }
    },
    {
      "cell_type": "code",
      "source": [
        "class Operator:\n",
        "  def __init__(self, value):\n",
        "    self.value = value\n",
        "  def __add__(self, other):\n",
        "    result = [[0 for _ in range(len(self.value[0]))] for _ in range(len(self.value))]\n",
        "    for row in range(len(self.value)):\n",
        "      for column in range(len(self.value[0])):\n",
        "        result[row][column] = self.value[row][column]+ other.value[row][column]\n",
        "    return result\n",
        "  def __sub__(self, other):\n",
        "    result = [[0 for _ in range(len(self.value[0]))] for _ in range(len(self.value))]\n",
        "    for row in range(len(self.value)):\n",
        "      for column in range(len(self.value[0])):\n",
        "        result[row][column] = self.value[row][column]- other.value[row][column]\n",
        "    return result\n",
        "\n",
        "\n",
        "a = Operator([[15, 12, 10, 2],\n",
        "     [1, 2, 3, 4]])\n",
        "b = Operator([[15, 12, 10, 2],\n",
        "     [1, 2, 3, 4]])\n",
        "print(a + b)\n",
        "print(a - b)"
      ],
      "metadata": {
        "colab": {
          "base_uri": "https://localhost:8080/"
        },
        "id": "ah35-MAKI6hT",
        "outputId": "911e2bf0-603b-4f1a-e8e0-3eeba5968095"
      },
      "execution_count": null,
      "outputs": [
        {
          "output_type": "stream",
          "name": "stdout",
          "text": [
            "[[30, 24, 20, 4], [2, 4, 6, 8]]\n",
            "[[0, 0, 0, 0], [0, 0, 0, 0]]\n"
          ]
        }
      ]
    }
  ]
}