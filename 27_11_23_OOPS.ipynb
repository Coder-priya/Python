{
  "nbformat": 4,
  "nbformat_minor": 0,
  "metadata": {
    "colab": {
      "provenance": []
    },
    "kernelspec": {
      "name": "python3",
      "display_name": "Python 3"
    },
    "language_info": {
      "name": "python"
    }
  },
  "cells": [
    {
      "cell_type": "code",
      "execution_count": null,
      "metadata": {
        "colab": {
          "base_uri": "https://localhost:8080/"
        },
        "id": "Lr5pMg22_3fH",
        "outputId": "1b8d666f-acfd-425c-de46-eba79115386b"
      },
      "outputs": [
        {
          "output_type": "stream",
          "name": "stdout",
          "text": [
            "enter car/bus/jeep: car\n",
            "speed (Km/hr): 40\n",
            "mileage: 18\n",
            "car has a speed of  40.0  with mileage 18.0\n"
          ]
        }
      ],
      "source": [
        "#1.\n",
        "class Vehicle():\n",
        "  def __init__(self, speed, mileage):\n",
        "    self.speed = speed\n",
        "    self.mileage = mileage\n",
        "\n",
        "  def Display(self):\n",
        "    print(mode, \"has a speed of \", self.speed, \" with mileage\", self.mileage)\n",
        "\n",
        "def userInput(mode):\n",
        "  speed = float(input(\"speed (Km/hr): \"))\n",
        "  mileage = float(input(\"mileage: \"))\n",
        "  Vinput = Vehicle(speed, mileage)\n",
        "  return Vinput\n",
        "\n",
        "mode = input(\"enter car/bus/jeep: \")\n",
        "vehicleInput = userInput(mode)\n",
        "vehicleInput.Display()"
      ]
    },
    {
      "cell_type": "code",
      "source": [
        "#2.\n",
        "class Laptop():\n",
        "  def __init__(self, name, price, processor, ram, hard_drive):\n",
        "    self.name= name\n",
        "    self.price= price\n",
        "    self.processor= processor\n",
        "    self.ram= ram\n",
        "    self.hard_drive= hard_drive\n",
        "\n",
        "  def createLap(self):\n",
        "    print(f\"Name: {self.name}\")\n",
        "    print(f\"Price: ${self.price}\")\n",
        "    print(f\"Processor: {self.processor}\")\n",
        "    print(f\"RAM: {self.ram} GB\")\n",
        "    print(f\"Hard Drive: {self.hard_drive} TB\")\n",
        "\n",
        "count=1\n",
        "i =1\n",
        "while(count ==1):\n",
        "  laptop = Laptop(input(\"Laptop name: \"), input(\"price: \"), input(\"processor: \"), input(\"RAM: \"), input(\"hard drive: \"))\n",
        "  print(\"\\n\")\n",
        "  print(\"laptop\", i, \": \")\n",
        "  i=i+1\n",
        "  laptop.createLap()\n",
        "  count = int(input(\"Want to Create another Laptop?(type 1 for yes, 0 for no) \"))\n",
        "  print(\"\\n\")"
      ],
      "metadata": {
        "colab": {
          "base_uri": "https://localhost:8080/"
        },
        "id": "3kuUJornIXvj",
        "outputId": "36416975-41e9-4616-990d-52d0dee18418"
      },
      "execution_count": null,
      "outputs": [
        {
          "output_type": "stream",
          "name": "stdout",
          "text": [
            "Laptop name: hp\n",
            "price: 45000\n",
            "processor: i5\n",
            "RAM: 16\n",
            "hard drive: 1\n",
            "\n",
            "\n",
            "laptop 1 : \n",
            "Name: hp\n",
            "Price: $45000\n",
            "Processor: i5\n",
            "RAM: 16 GB\n",
            "Hard Drive: 1 TB\n",
            "Want to Create another Laptop?(type 1 for yes, 0 for no) 1\n",
            "\n",
            "\n",
            "Laptop name: bhj\n",
            "price: jhvjh\n",
            "processor: mb\n",
            "RAM: vhb\n",
            "hard drive: jvk\n",
            "\n",
            "\n",
            "laptop 2 : \n",
            "Name: bhj\n",
            "Price: $jhvjh\n",
            "Processor: mb\n",
            "RAM: vhb GB\n",
            "Hard Drive: jvk TB\n",
            "Want to Create another Laptop?(type 1 for yes, 0 for no) 0\n",
            "\n",
            "\n"
          ]
        }
      ]
    }
  ]
}