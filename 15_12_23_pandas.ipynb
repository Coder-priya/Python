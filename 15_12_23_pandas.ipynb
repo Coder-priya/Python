{
  "nbformat": 4,
  "nbformat_minor": 0,
  "metadata": {
    "colab": {
      "provenance": []
    },
    "kernelspec": {
      "name": "python3",
      "display_name": "Python 3"
    },
    "language_info": {
      "name": "python"
    }
  },
  "cells": [
    {
      "cell_type": "markdown",
      "source": [
        "1.Load a DataFrame with information about sales transactions,\n",
        "including 'Product', 'Quantity', and 'Price'.\n",
        "Write a program to calculate the total revenue for each product."
      ],
      "metadata": {
        "id": "lqkwLcduQf4t"
      }
    },
    {
      "cell_type": "code",
      "execution_count": null,
      "metadata": {
        "colab": {
          "base_uri": "https://localhost:8080/"
        },
        "id": "H1OYytMeKu01",
        "outputId": "496d9cc3-70af-4a62-a547-b5fdcd501858"
      },
      "outputs": [
        {
          "output_type": "stream",
          "name": "stdout",
          "text": [
            "  Product  Quantity  Price\n",
            "0     Pen        10     10\n",
            "1  Pencil        50      5\n",
            "2  Eraser        20      5\n",
            "\n",
            "   Product  Quantity  Price  Revanue\n",
            "0     Pen        10     10      100\n",
            "1  Pencil        50      5      250\n",
            "2  Eraser        20      5      100\n"
          ]
        }
      ],
      "source": [
        "import pandas as pd\n",
        "data = {'Product': ['Pen','Pencil', 'Eraser'],\n",
        "        'Quantity': [10, 50, 20],\n",
        "        'Price': [10, 5, 5]}\n",
        "df = pd.DataFrame(data)\n",
        "print(df)\n",
        "df['Revanue'] = df['Quantity'] * df['Price']\n",
        "print(\"\\n\", df)"
      ]
    },
    {
      "cell_type": "markdown",
      "source": [
        "2. Load a DataFrame with information about customer orders,\n",
        "including 'CustomerID', 'Product', and 'Quantity'. Write a program\n",
        "to find the total quantity of each product ordered by each customer."
      ],
      "metadata": {
        "id": "uZm7Pt61QscV"
      }
    },
    {
      "cell_type": "code",
      "source": [
        "import pandas as pd\n",
        "data= {'Customer id': [1011, 1012, 1032, 1034],\n",
        "       'product': ['Pen','Pencil', 'Eraser', 'Notebook'],\n",
        "       'Quantity':[5, 9, 10,12]}\n",
        "df = pd.DataFrame(data)\n",
        "print(\"Information about customer orders\", \"\\n\",df)"
      ],
      "metadata": {
        "colab": {
          "base_uri": "https://localhost:8080/"
        },
        "id": "wOaLmPfZ-sKe",
        "outputId": "44627cc6-b182-474d-d15a-1df54642cedb"
      },
      "execution_count": null,
      "outputs": [
        {
          "output_type": "stream",
          "name": "stdout",
          "text": [
            "Information about customer orders \n",
            "    Customer id   product  Quantity\n",
            "0         1011       Pen         5\n",
            "1         1012    Pencil         9\n",
            "2         1032    Eraser        10\n",
            "3         1034  Notebook        12\n"
          ]
        }
      ]
    },
    {
      "cell_type": "markdown",
      "source": [
        "3. Given a DataFrame with information about students,\n",
        "including 'Name', 'Age', and 'Grade', write a program\n",
        "to filter out students who are older than 20 and have a grade higher than 90."
      ],
      "metadata": {
        "id": "CzuD5AiqQ0_1"
      }
    },
    {
      "cell_type": "code",
      "source": [
        "import pandas as pd\n",
        "data={\n",
        "    'Name':['Ravi','Lakshmi','Alice','Abhijit','Jerom','Parth','Vikash','Suraj'],\n",
        "    'Age': [23, 15, 19, 25, 30, 23, 22, 24],\n",
        "    'Grade': [95, 91, 50, 70, 97, 80, 60, 40]}\n",
        "df = pd.DataFrame(data)\n",
        "print(\"Information of Students\", \"\\n\", df, \"\\n\\n\\n\")\n",
        "print(\"Students who are older than 20 and have a grade higher than 90\", \"\\n\",\n",
        "      df[(df['Age']> 20) & (df['Grade']>90)])"
      ],
      "metadata": {
        "id": "sBtRcalHK4K8",
        "colab": {
          "base_uri": "https://localhost:8080/"
        },
        "outputId": "7f0ce619-a6aa-49bd-c31c-63b1e931cccc"
      },
      "execution_count": null,
      "outputs": [
        {
          "output_type": "stream",
          "name": "stdout",
          "text": [
            "Information of Students \n",
            "       Name  Age  Grade\n",
            "0     Ravi   23     95\n",
            "1  Lakshmi   15     91\n",
            "2    Alice   19     50\n",
            "3  Abhijit   25     70\n",
            "4    Jerom   30     97\n",
            "5    Parth   23     80\n",
            "6   Vikash   22     60\n",
            "7    Suraj   24     40 \n",
            "\n",
            "\n",
            "\n",
            "Students who are older than 20 and have a grade higher than 90 \n",
            "     Name  Age  Grade\n",
            "0   Ravi   23     95\n",
            "4  Jerom   30     97\n"
          ]
        }
      ]
    }
  ]
}